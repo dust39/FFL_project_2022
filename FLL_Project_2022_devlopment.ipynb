{
 "cells": [
  {
   "cell_type": "code",
   "execution_count": 42,
   "metadata": {},
   "outputs": [],
   "source": [
    "import pandas as pd"
   ]
  },
  {
   "cell_type": "code",
   "execution_count": 43,
   "metadata": {},
   "outputs": [],
   "source": [
    "import matplotlib.pyplot as plt"
   ]
  },
  {
   "cell_type": "code",
   "execution_count": 44,
   "metadata": {},
   "outputs": [],
   "source": [
    "import sys"
   ]
  },
  {
   "cell_type": "code",
   "execution_count": 45,
   "metadata": {},
   "outputs": [],
   "source": [
    "#code below was used to import numpy when I used an array to add a column, but I found another way to do it.\n",
    "#import numpy as np"
   ]
  },
  {
   "cell_type": "code",
   "execution_count": 46,
   "metadata": {},
   "outputs": [
    {
     "name": "stdout",
     "output_type": "stream",
     "text": [
      "Welcome to my Python Fantasy Football Project 2022\n"
     ]
    }
   ],
   "source": [
    "# Code below creates a simple message welcoming the user to the project, then prints the message\n",
    "msg=\"Welcome to my Python Fantasy Football Project 2022\"\n",
    "print(msg)\n"
   ]
  },
  {
   "cell_type": "code",
   "execution_count": 47,
   "metadata": {},
   "outputs": [],
   "source": [
    "#created a function for practice. This function gets user input\n",
    "\n",
    "def getuserinput():\n",
    "    #code below prompts user to enter a desired year of data to look at when the function is called\n",
    "    year=input(\"Hello, please enter a four digit year from 1970 to 2019 to see the top 10 fantasy scorers from that year!\")\n",
    "    #code below converts the string from the input above into a integer so that I can see if it is in a number range in the if statement below\n",
    "    converted_num=int(year)\n",
    "   #code below= if statement tests whether the entered number is in the desired range\n",
    "    if converted_num in range(1970,2020,1):\n",
    "        #if the value is in the range return year and continue with program\n",
    "       return(year)\n",
    "    #code below: if not then go to else \n",
    "    else:\n",
    "        # code below is execute if statment above is false.starts a while loop to look for valid input or the word end to exit program. while loop continues until we get a valid input or until user decides to exit by typing end.\n",
    "        while converted_num not in range(1970,2020,1):\n",
    "            #code below prints message if incorrect date is entered, and then asks for a 2nd entry\n",
    "            #print(\"Please try again. Please enter a valid 4 digit year between 1970 and 2019!\")\n",
    "            #code below asks user to re-enter input since first entry was invalid \n",
    "            year=input(\"Please try again. Please enter a valid 4 digit year between 1970 and 2019. Type 'end' to quit.\")\n",
    "            \n",
    "            #code below tests if the user types the word end, the program exits \n",
    "            if year == \"end\" or year == \"'end'\":                \n",
    "                sys.exit()\n",
    "            #code below converts the re-entered tring from the input above into a integer so that I can see if it is in a number range I expect\n",
    "            converted_num=int(year)\n",
    "                        \n",
    "        # if the user inputs a number that is in the desired range, the while loop ends and returns the string stored in variable year.\n",
    "        else:\n",
    "            return(year)     \n",
    "    \n",
    "        \n",
    "\n"
   ]
  },
  {
   "cell_type": "code",
   "execution_count": 48,
   "metadata": {},
   "outputs": [
    {
     "ename": "ValueError",
     "evalue": "invalid literal for int() with base 10: 'end'",
     "output_type": "error",
     "traceback": [
      "\u001b[1;31m---------------------------------------------------------------------------\u001b[0m",
      "\u001b[1;31mValueError\u001b[0m                                Traceback (most recent call last)",
      "\u001b[1;32mc:\\PROJECTS\\Python\\FFL_project_2022\\FLL_Project_2022_devlopment.ipynb Cell 7'\u001b[0m in \u001b[0;36m<cell line: 1>\u001b[1;34m()\u001b[0m\n\u001b[1;32m----> <a href='vscode-notebook-cell:/c%3A/PROJECTS/Python/FFL_project_2022/FLL_Project_2022_devlopment.ipynb#ch0000005?line=0'>1</a>\u001b[0m desired_year\u001b[39m=\u001b[39mgetuserinput()\n",
      "\u001b[1;32mc:\\PROJECTS\\Python\\FFL_project_2022\\FLL_Project_2022_devlopment.ipynb Cell 6'\u001b[0m in \u001b[0;36mgetuserinput\u001b[1;34m()\u001b[0m\n\u001b[0;32m      <a href='vscode-notebook-cell:/c%3A/PROJECTS/Python/FFL_project_2022/FLL_Project_2022_devlopment.ipynb#ch0000004?line=4'>5</a>\u001b[0m  year\u001b[39m=\u001b[39m\u001b[39minput\u001b[39m(\u001b[39m\"\u001b[39m\u001b[39mHello, please enter a four digit year from 1970 to 2019 to see the top 10 fantasy scorers from that year!\u001b[39m\u001b[39m\"\u001b[39m)\n\u001b[0;32m      <a href='vscode-notebook-cell:/c%3A/PROJECTS/Python/FFL_project_2022/FLL_Project_2022_devlopment.ipynb#ch0000004?line=5'>6</a>\u001b[0m  \u001b[39m#code below converts the string from the input above into a integer so that I can see if it is in a number range in the if statement below\u001b[39;00m\n\u001b[1;32m----> <a href='vscode-notebook-cell:/c%3A/PROJECTS/Python/FFL_project_2022/FLL_Project_2022_devlopment.ipynb#ch0000004?line=6'>7</a>\u001b[0m  converted_num\u001b[39m=\u001b[39m\u001b[39mint\u001b[39;49m(year)\n\u001b[0;32m      <a href='vscode-notebook-cell:/c%3A/PROJECTS/Python/FFL_project_2022/FLL_Project_2022_devlopment.ipynb#ch0000004?line=7'>8</a>\u001b[0m \u001b[39m#code below= if statement tests whether the entered number is in the desired range\u001b[39;00m\n\u001b[0;32m      <a href='vscode-notebook-cell:/c%3A/PROJECTS/Python/FFL_project_2022/FLL_Project_2022_devlopment.ipynb#ch0000004?line=8'>9</a>\u001b[0m  \u001b[39mif\u001b[39;00m converted_num \u001b[39min\u001b[39;00m \u001b[39mrange\u001b[39m(\u001b[39m1970\u001b[39m,\u001b[39m2020\u001b[39m,\u001b[39m1\u001b[39m):\n\u001b[0;32m     <a href='vscode-notebook-cell:/c%3A/PROJECTS/Python/FFL_project_2022/FLL_Project_2022_devlopment.ipynb#ch0000004?line=9'>10</a>\u001b[0m      \u001b[39m#if the value is in the range return year and continue with program\u001b[39;00m\n",
      "\u001b[1;31mValueError\u001b[0m: invalid literal for int() with base 10: 'end'"
     ]
    }
   ],
   "source": [
    "desired_year=getuserinput()\n",
    "#code below printed the desired year variable and the type so I could verify it functions as expected.\n",
    "#print(desired_year)\n",
    "#print(type(desired_year))"
   ]
  },
  {
   "cell_type": "code",
   "execution_count": null,
   "metadata": {},
   "outputs": [],
   "source": [
    "#code below uses pandas to read in the CSV file\n",
    "df1=pd.read_csv(\"project_data/yearly/\"+desired_year+\".csv\")\n",
    "#code below sorts the data frame by the column fantasy points. Sorts in descending order\n",
    "df1.sort_values(\"FantasyPoints\", ascending=False)\n",
    "#code below drops my extra indexing column\n",
    "df1.drop(['Unnamed: 0'],axis=1,inplace=True)\n",
    "\n",
    "#code below prints data frame named df1 to ensure it is created as expected\n",
    "#print(df1)\n",
    "\n"
   ]
  },
  {
   "cell_type": "code",
   "execution_count": null,
   "metadata": {},
   "outputs": [],
   "source": [
    "#this takes my data frame column titled \"Player\" and data frame column \"Pos\" and concatenates the two columns to make a list. Later in the program I extract the player's 1st initial. Then create a new list with a players 1st initial,last_name, and position and store it in variable player_initial_list as a new list.\n",
    "player_name_list=(df1[\"Player\"]+\"-\"+df1[\"Pos\"]).tolist()\n",
    "#prints player list to confirm the list is created and has the contents expected\n",
    "#print(player_name_list)"
   ]
  },
  {
   "cell_type": "code",
   "execution_count": null,
   "metadata": {},
   "outputs": [],
   "source": [
    "#code below initializes an empty list so I can add populate this list Player first initial and last name.\n",
    "player_initial_list=[]\n",
    "#for loop to iterate over player name list\n",
    "for name in player_name_list:\n",
    "    # code below uses slicing to grab index 0 of string, which is the first letter of the first name, then adds . after\n",
    "    first_initial= name[0]+\".\"\n",
    "    # code below uses the str.find function to find at which index the space between first and last name is\n",
    "    name_separation_index=name.find(\" \")\n",
    "    #code below uses slicing to return (value of index of the empty space between names+1) AND returns rest of string after that\n",
    "    last_name=name[name_separation_index+1:]\n",
    "    #code below combines the first initial and last name via concatenation then it adds the new string to list \"player_initial_list\"\n",
    "    player_initial_list.append(first_initial+last_name)\n",
    "    #code below prints the list so that I can be sure the list is created and has populated with the content I expect\n",
    "    #print(player_initial_list)"
   ]
  },
  {
   "cell_type": "code",
   "execution_count": null,
   "metadata": {},
   "outputs": [],
   "source": [
    "#adds a column to the data frame, any of the 3 of code items below work to add the column in this instance.\n",
    "#df1[\"1stInitial_LastName\"]=pd.Series(player_initial_list)\n",
    "#df1[\"1stInitial_LastName\"] =np.array(player_initial_list)\n",
    "df1[\"1stInitial_LastName\"]=player_initial_list\n",
    "#shows df1 column in juptyer to verify columns is created and titled as expected\n",
    "df1[\"1stInitial_LastName\"]\n",
    "1"
   ]
  },
  {
   "cell_type": "code",
   "execution_count": null,
   "metadata": {},
   "outputs": [],
   "source": [
    "#code below allows me to look at the 1st 5 rows of the df1 to ensure it is created as I expect\n",
    "df1.head(5)"
   ]
  },
  {
   "cell_type": "code",
   "execution_count": null,
   "metadata": {},
   "outputs": [],
   "source": [
    "#code below shows me some summary statistics of df1, although not vital to the purpose of my code, it is useful to see.\n",
    "df1.describe()"
   ]
  },
  {
   "cell_type": "code",
   "execution_count": null,
   "metadata": {},
   "outputs": [],
   "source": [
    "#code below gives quick snapshot of the size of the data frame in rows and columns. Although not vital to the purpose of my code, it is useful to see.\n",
    "df1.shape"
   ]
  },
  {
   "cell_type": "code",
   "execution_count": null,
   "metadata": {},
   "outputs": [],
   "source": [
    "#code below gives a detailed type of data stored in each column. Although not vital to the purpose of my code, it is useful to see.\n",
    "df1.dtypes"
   ]
  },
  {
   "cell_type": "code",
   "execution_count": null,
   "metadata": {},
   "outputs": [],
   "source": [
    "# From the df1 data frame, I create a new data frame that is filtered by the top 10 values of column \"Fantasy Points\"\n",
    "df2 = df1.nlargest(n=10,columns=\"FantasyPoints\")\n",
    "#I run this just to show that df2 only has 10 rows\n",
    "df2.head(11)\n"
   ]
  },
  {
   "cell_type": "code",
   "execution_count": null,
   "metadata": {},
   "outputs": [],
   "source": [
    "\n",
    "# plot specifications. worth noting plt.figure needs to go first and savefig for jpg output needs to go near end\n",
    "plt.figure(figsize=(11,8))\n",
    "#code below defines attributes of the plot\n",
    "plt.bar(x=df2[\"1stInitial_LastName\"], height=df2[\"FantasyPoints\"])\n",
    "plt.ylabel('Total Fantasy Points', fontsize=18)\n",
    "plt.xlabel('Player', fontsize=18)\n",
    "plt.xticks(fontsize=10)\n",
    "plt.yticks(fontsize=10)\n",
    "plt.xticks(rotation = 45)\n",
    "#code below saves an jpg of the bargraph output to a folder, and names it with the year selected from the user input earlier in the program\n",
    "plt.savefig(\"jpg_output\\Bargraph_Output\"+desired_year+\".jpg\")\n",
    "#code below shows the final plot\n",
    "plt.show()\n",
    "\n"
   ]
  }
 ],
 "metadata": {
  "interpreter": {
   "hash": "0f2a3d97e75a4d2bf14e0ab800cc33299ed9256daacd6a386f98a1a0b4fa20fb"
  },
  "kernelspec": {
   "display_name": "Python 3.9.6 ('FFL_Project_2022': venv)",
   "language": "python",
   "name": "python3"
  },
  "language_info": {
   "codemirror_mode": {
    "name": "ipython",
    "version": 3
   },
   "file_extension": ".py",
   "mimetype": "text/x-python",
   "name": "python",
   "nbconvert_exporter": "python",
   "pygments_lexer": "ipython3",
   "version": "3.9.6"
  },
  "orig_nbformat": 4
 },
 "nbformat": 4,
 "nbformat_minor": 2
}
