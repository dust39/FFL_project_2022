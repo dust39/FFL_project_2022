{
 "cells": [
  {
   "cell_type": "code",
   "execution_count": null,
   "metadata": {},
   "outputs": [],
   "source": [
    "import pandas as pd\n",
    "import matplotlib.pyplot as plt\n",
    "import numpy as np\n",
    "\n",
    "msg=\"Welcome to my Python Fantasy Football Project 2022\"\n",
    "print(msg)\n",
    "print(pd.__version__)"
   ]
  },
  {
   "cell_type": "code",
   "execution_count": null,
   "metadata": {},
   "outputs": [],
   "source": [
    "df1=pd.read_csv(\"project_data/yearly/2019.csv\")\n",
    "df1.sort_values(\"FantasyPoints\", ascending=False)\n",
    "#this drops my extra indexing column\n",
    "df1.drop(['Unnamed: 0'],axis=1,inplace=True)\n",
    "\n"
   ]
  },
  {
   "cell_type": "code",
   "execution_count": null,
   "metadata": {},
   "outputs": [],
   "source": [
    "#this takes my data frame column Player and makes it a list so that I can extract 1st initial last name below.\n",
    "player_name_list=df1[\"Player\"].tolist()\n",
    "#prints player list\n",
    "# print(player_name_list)"
   ]
  },
  {
   "cell_type": "code",
   "execution_count": null,
   "metadata": {},
   "outputs": [],
   "source": [
    "#initializes an empty list so I can add new list with Player first initial and last name.\n",
    "player_initial_list=[]\n",
    "#for loop to iterate over player name list\n",
    "for name in player_name_list:\n",
    "    # uses slicing to grab index 0 of string, which is the first letter of the first name, then adds . after\n",
    "    first_initial= name[0]+\".\"\n",
    "    # this uses the str.find function to find at which index the space between first and last name is\n",
    "    name_separation_index=name.find(\" \")\n",
    "    #this uses slicing to return (value of index of the empty space between names+1) plus returns rest of string after that\n",
    "    last_name=name[name_separation_index+1:]\n",
    "    #this combines the first initial and last name via concatenation then it adds the new string to list \"player_initial_list\"\n",
    "    player_initial_list.append(first_initial+last_name)\n",
    "    #this prints the list so that I can be sure the list shows as I expect\n",
    "    #print(player_initial_list)"
   ]
  },
  {
   "cell_type": "code",
   "execution_count": null,
   "metadata": {},
   "outputs": [],
   "source": [
    "#print(player_initial_list)"
   ]
  },
  {
   "cell_type": "code",
   "execution_count": null,
   "metadata": {},
   "outputs": [],
   "source": [
    "#adds a column to the data fram\n",
    "#series=pd.Series(player_initial_list)\n",
    "df1[\"1st_Initial,LastName\"] =np.array(player_initial_list)\n"
   ]
  },
  {
   "cell_type": "code",
   "execution_count": null,
   "metadata": {},
   "outputs": [],
   "source": [
    "df1.head(5)"
   ]
  },
  {
   "cell_type": "code",
   "execution_count": null,
   "metadata": {},
   "outputs": [],
   "source": [
    "df1.describe()"
   ]
  },
  {
   "cell_type": "code",
   "execution_count": null,
   "metadata": {},
   "outputs": [],
   "source": [
    "df1.shape"
   ]
  },
  {
   "cell_type": "code",
   "execution_count": null,
   "metadata": {},
   "outputs": [],
   "source": [
    "df1.dtypes"
   ]
  },
  {
   "cell_type": "code",
   "execution_count": null,
   "metadata": {},
   "outputs": [],
   "source": [
    "print(df1.describe())"
   ]
  },
  {
   "cell_type": "code",
   "execution_count": null,
   "metadata": {},
   "outputs": [],
   "source": [
    "df2 = df1.nlargest(n=10,columns=\"FantasyPoints\")\n",
    "df2.head(5)\n"
   ]
  },
  {
   "cell_type": "code",
   "execution_count": null,
   "metadata": {},
   "outputs": [],
   "source": [
    "\n",
    "# plot specifications. worth noting plt.figure needs to go first and savefig for jpg output needs to go near end\n",
    "plt.figure(figsize=(11,8))\n",
    "\n",
    "plt.bar(x=df2[\"1st_Initial,LastName\"], height=df2[\"FantasyPoints\"])\n",
    "plt.ylabel('Total Fantasy Points', fontsize=18)\n",
    "plt.xlabel('Player', fontsize=18)\n",
    "plt.xticks(fontsize=10)\n",
    "plt.yticks(fontsize=10)\n",
    "plt.xticks(rotation = 45)\n",
    "plt.savefig(\"Bar_Output.jpg\")\n",
    "plt.show()\n",
    "\n"
   ]
  }
 ],
 "metadata": {
  "interpreter": {
   "hash": "0f2a3d97e75a4d2bf14e0ab800cc33299ed9256daacd6a386f98a1a0b4fa20fb"
  },
  "kernelspec": {
   "display_name": "Python 3.9.6 ('FFL_Project_2022': venv)",
   "language": "python",
   "name": "python3"
  },
  "language_info": {
   "codemirror_mode": {
    "name": "ipython",
    "version": 3
   },
   "file_extension": ".py",
   "mimetype": "text/x-python",
   "name": "python",
   "nbconvert_exporter": "python",
   "pygments_lexer": "ipython3",
   "version": "3.9.6"
  },
  "orig_nbformat": 4
 },
 "nbformat": 4,
 "nbformat_minor": 2
}
